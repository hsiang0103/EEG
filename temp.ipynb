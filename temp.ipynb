{
 "cells": [
  {
   "cell_type": "code",
   "execution_count": 1,
   "metadata": {},
   "outputs": [],
   "source": [
    "from Dataset import EDFdataset\n",
    "from testdataset import TestDataset\n",
    "import time\n",
    "from utils import *"
   ]
  },
  {
   "cell_type": "code",
   "execution_count": 2,
   "metadata": {},
   "outputs": [
    {
     "name": "stdout",
     "output_type": "stream",
     "text": [
      "|■■■■■■■■■■■■■■■■■■■■■■■■■■■■■■|42/42 edf file processed.\n",
      "|■■■■■■■■■■■■■■■■■■■■■■■■■■■■■■|42/42 edf file processed.\n"
     ]
    }
   ],
   "source": [
    "start_time = time.time()\n",
    "orinigal = EDFdataset(dataset_folder_path=\"/homes/nfs/caslab_bs/Desktop/Dennis/physionet.org/files/chbmit/1.0.0/chb01/\")\n",
    "cost_time_orinigal = time.time() - start_time\n",
    "\n",
    "\n",
    "\n",
    "start_time = time.time()\n",
    "imporved = TestDataset(dataset_folder_path=\"/homes/nfs/caslab_bs/Desktop/Dennis/physionet.org/files/chbmit/1.0.0/chb01/\")\n",
    "cost_time_imporved = time.time() - start_time"
   ]
  },
  {
   "cell_type": "markdown",
   "metadata": {},
   "source": [
    "## Orinigal"
   ]
  },
  {
   "cell_type": "code",
   "execution_count": null,
   "metadata": {},
   "outputs": [
    {
     "ename": "NameError",
     "evalue": "name 'orinigal' is not defined",
     "output_type": "error",
     "traceback": [
      "\u001b[0;31m---------------------------------------------------------------------------\u001b[0m",
      "\u001b[0;31mNameError\u001b[0m                                 Traceback (most recent call last)",
      "Cell \u001b[0;32mIn[6], line 4\u001b[0m\n\u001b[1;32m      1\u001b[0m pos_num\u001b[38;5;241m=\u001b[39m\u001b[38;5;241m0\u001b[39m\n\u001b[1;32m      2\u001b[0m neg_num\u001b[38;5;241m=\u001b[39m\u001b[38;5;241m0\u001b[39m\n\u001b[0;32m----> 4\u001b[0m \u001b[38;5;28;01mfor\u001b[39;00m idx, data \u001b[38;5;129;01min\u001b[39;00m \u001b[38;5;28menumerate\u001b[39m(\u001b[43morinigal\u001b[49m):\n\u001b[1;32m      5\u001b[0m     \u001b[38;5;28;01mif\u001b[39;00m data[\u001b[38;5;241m1\u001b[39m] \u001b[38;5;241m==\u001b[39m \u001b[38;5;241m1\u001b[39m :\n\u001b[1;32m      6\u001b[0m         pos_num \u001b[38;5;241m+\u001b[39m\u001b[38;5;241m=\u001b[39m \u001b[38;5;241m1\u001b[39m\n",
      "\u001b[0;31mNameError\u001b[0m: name 'orinigal' is not defined"
     ]
    }
   ],
   "source": [
    "pos_num=0\n",
    "neg_num=0\n",
    "\n",
    "for idx, data in enumerate(orinigal):\n",
    "    if data[1] == 1 :\n",
    "        pos_num += 1\n",
    "    else:\n",
    "        neg_num += 1\n",
    "    processbar(idx+1, len(orinigal), total_len = 30, info = f\"{idx + 1}/{len(orinigal)} windows scanned.\")\n",
    "print(f\"time: {cost_time_orinigal}s\")\n",
    "print(f\"pos: {pos_num}\")\n",
    "print(f\"neg: {neg_num}\")\n",
    "print(f\"alpha: {neg_num/ pos_num}\")"
   ]
  },
  {
   "cell_type": "markdown",
   "metadata": {},
   "source": [
    "## Improved"
   ]
  },
  {
   "cell_type": "code",
   "execution_count": 11,
   "metadata": {},
   "outputs": [],
   "source": [
    "pos_num=0\n",
    "neg_num=0\n",
    "\n",
    "for idx, data in enumerate(imporved):\n",
    "    if data[1] == 1 :\n",
    "        pos_num += 1\n",
    "    else:\n",
    "        neg_num += 1\n",
    "    processbar(idx+1, len(imporved), total_len = 30, info = f\"{idx + 1}/{len(imporved)} windows scanned.\")\n",
    "\n",
    "print(f\"time: {cost_time_imporved}s\")\n",
    "print(f\"pos: {pos_num}\")\n",
    "print(f\"neg: {neg_num}\")\n",
    "print(f\"alpha: {neg_num/ pos_num}\")"
   ]
  }
 ],
 "metadata": {
  "kernelspec": {
   "display_name": "Python 3",
   "language": "python",
   "name": "python3"
  },
  "language_info": {
   "codemirror_mode": {
    "name": "ipython",
    "version": 3
   },
   "file_extension": ".py",
   "mimetype": "text/x-python",
   "name": "python",
   "nbconvert_exporter": "python",
   "pygments_lexer": "ipython3",
   "version": "3.9.19"
  }
 },
 "nbformat": 4,
 "nbformat_minor": 2
}
